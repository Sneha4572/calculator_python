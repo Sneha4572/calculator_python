{
 "cells": [
  {
   "cell_type": "code",
   "execution_count": null,
   "id": "37e9abb1",
   "metadata": {},
   "outputs": [
    {
     "name": "stdout",
     "output_type": "stream",
     "text": [
      "\t\tCALCULATOR\t\t\n",
      "1.+\n",
      "2.-\n",
      "3.*\n",
      "4./\n",
      "5.%\n",
      "\n",
      "Enter operation:\n",
      "-\n",
      "Enter two numbers:\n",
      "2 \n",
      "8\n",
      "2.0 - 8.0 = -6.0\n"
     ]
    }
   ],
   "source": [
    "print(\"\\t\\tCALCULATOR\\t\\t\")\n",
    "print(\"1.+\\n2.-\\n3.*\\n4./\\n5.%\\n\")\n",
    "print(\"Enter operation:\")\n",
    "c=input()\n",
    "def add():\n",
    "    print(a,\"+\",b,\"=\",a+b)\n",
    "def sub():\n",
    "    print(a,\"-\",b,\"=\",a-b)\n",
    "def mul():\n",
    "    print(a,\"*\",b,\"=\",a*b)\n",
    "    \n",
    "def div():\n",
    "    print(a,\"/\",b,\"=\",a/b)\n",
    "    \n",
    "def mod():\n",
    "    print(a,\"%\",b,\"=\",a%b)\n",
    "\n",
    "print(\"Enter two numbers:\")\n",
    "a=float(input())\n",
    "b=float(input())\n",
    "if(c=='+'):\n",
    "    add()\n",
    "elif(c=='-'):\n",
    "    sub()\n",
    "elif(c=='*'):\n",
    "    mul()\n",
    "elif(c=='/'):\n",
    "    div()\n",
    "elif(c=='%'):\n",
    "    mod()\n",
    "else:\n",
    "    print(\"INVALID OPERATION\")"
   ]
  },
  {
   "cell_type": "code",
   "execution_count": null,
   "id": "db4038f7",
   "metadata": {},
   "outputs": [],
   "source": []
  },
  {
   "cell_type": "code",
   "execution_count": null,
   "id": "85f693f0",
   "metadata": {},
   "outputs": [],
   "source": []
  }
 ],
 "metadata": {
  "kernelspec": {
   "display_name": "Python 3 (ipykernel)",
   "language": "python",
   "name": "python3"
  },
  "language_info": {
   "codemirror_mode": {
    "name": "ipython",
    "version": 3
   },
   "file_extension": ".py",
   "mimetype": "text/x-python",
   "name": "python",
   "nbconvert_exporter": "python",
   "pygments_lexer": "ipython3",
   "version": "3.11.4"
  }
 },
 "nbformat": 4,
 "nbformat_minor": 5
}
